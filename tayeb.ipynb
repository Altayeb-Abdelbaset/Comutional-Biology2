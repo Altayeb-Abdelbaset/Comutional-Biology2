{
 "cells": [
  {
   "cell_type": "code",
   "execution_count": 1,
   "id": "df2a6eb8",
   "metadata": {},
   "outputs": [],
   "source": [
    "from cobra import Model, Reaction, Metabolite"
   ]
  },
  {
   "cell_type": "code",
   "execution_count": 2,
   "id": "1ad0573e",
   "metadata": {},
   "outputs": [],
   "source": [
    "M = Model('ALTAYEB1')"
   ]
  },
  {
   "cell_type": "code",
   "execution_count": 3,
   "id": "f9548460",
   "metadata": {},
   "outputs": [],
   "source": [
    "T1 = Reaction('T1')\n",
    "T1.name = 'T1'"
   ]
  },
  {
   "cell_type": "code",
   "execution_count": 4,
   "id": "e775b163",
   "metadata": {},
   "outputs": [],
   "source": [
    "T2 = Reaction('T2')\n",
    "T2.name = 'T2'\n"
   ]
  },
  {
   "cell_type": "code",
   "execution_count": 5,
   "id": "531b7332",
   "metadata": {},
   "outputs": [],
   "source": [
    "In = Reaction('In')\n",
    "In.name = 'In'\n",
    "In.lower_bound = 15\n",
    "In.upper_bound = 15"
   ]
  },
  {
   "cell_type": "code",
   "execution_count": 6,
   "id": "5ae460c3",
   "metadata": {},
   "outputs": [],
   "source": [
    "Out = Reaction('Out')\n",
    "Out.name = 'Out'"
   ]
  },
  {
   "cell_type": "code",
   "execution_count": 7,
   "id": "04334dc6",
   "metadata": {},
   "outputs": [],
   "source": [
    "T3 = Reaction('T3')\n",
    "T3.name = 'T3'\n",
    "T3.lower_bound = 12\n",
    "T3.upper_bound = 12"
   ]
  },
  {
   "cell_type": "code",
   "execution_count": 8,
   "id": "6845f423",
   "metadata": {},
   "outputs": [],
   "source": [
    "T4 = Reaction('T4')\n",
    "T4.name = 'T4'"
   ]
  },
  {
   "cell_type": "code",
   "execution_count": 9,
   "id": "1aaca772",
   "metadata": {},
   "outputs": [],
   "source": [
    "A = Metabolite(\n",
    "    'A', compartment='c')\n",
    "B = Metabolite(\n",
    "    'B', compartment='c')\n",
    "C = Metabolite(\n",
    "    'C', compartment='c')\n",
    "ATP = Metabolite(\n",
    "    'ATP', compartment='c')"
   ]
  },
  {
   "cell_type": "code",
   "execution_count": 10,
   "id": "9d6f2de2",
   "metadata": {},
   "outputs": [],
   "source": [
    "T1.add_metabolites({A: -1, B: 1})\n",
    "\n",
    "T2.add_metabolites({B: -1, C: 1})"
   ]
  },
  {
   "cell_type": "code",
   "execution_count": 11,
   "id": "9f3a50d1",
   "metadata": {},
   "outputs": [],
   "source": [
    "In.add_metabolites({A: 1})\n",
    "\n",
    "Out.add_metabolites({C: -1})"
   ]
  },
  {
   "cell_type": "code",
   "execution_count": 12,
   "id": "7c193fac",
   "metadata": {},
   "outputs": [],
   "source": [
    "T3.add_metabolites({A: -1, ATP: 1})\n",
    "\n",
    "T4.add_metabolites({ATP: -1})"
   ]
  },
  {
   "cell_type": "code",
   "execution_count": 13,
   "id": "7e9804ab",
   "metadata": {},
   "outputs": [],
   "source": [
    "M.add_reactions([In, T1, T2, T3, T4, Out])"
   ]
  },
  {
   "cell_type": "code",
   "execution_count": 14,
   "id": "a83b3ad9",
   "metadata": {},
   "outputs": [],
   "source": [
    "M.objective = Out"
   ]
  },
  {
   "cell_type": "code",
   "execution_count": 15,
   "id": "1b0f13b5",
   "metadata": {},
   "outputs": [
    {
     "data": {
      "text/html": [
       "<strong><em>Optimal</em> solution with objective value 3.000</strong><br><div>\n",
       "<style scoped>\n",
       "    .dataframe tbody tr th:only-of-type {\n",
       "        vertical-align: middle;\n",
       "    }\n",
       "\n",
       "    .dataframe tbody tr th {\n",
       "        vertical-align: top;\n",
       "    }\n",
       "\n",
       "    .dataframe thead th {\n",
       "        text-align: right;\n",
       "    }\n",
       "</style>\n",
       "<table border=\"1\" class=\"dataframe\">\n",
       "  <thead>\n",
       "    <tr style=\"text-align: right;\">\n",
       "      <th></th>\n",
       "      <th>fluxes</th>\n",
       "      <th>reduced_costs</th>\n",
       "    </tr>\n",
       "  </thead>\n",
       "  <tbody>\n",
       "    <tr>\n",
       "      <th>In</th>\n",
       "      <td>15.0</td>\n",
       "      <td>2.0</td>\n",
       "    </tr>\n",
       "    <tr>\n",
       "      <th>T1</th>\n",
       "      <td>3.0</td>\n",
       "      <td>0.0</td>\n",
       "    </tr>\n",
       "    <tr>\n",
       "      <th>T2</th>\n",
       "      <td>3.0</td>\n",
       "      <td>0.0</td>\n",
       "    </tr>\n",
       "    <tr>\n",
       "      <th>T3</th>\n",
       "      <td>12.0</td>\n",
       "      <td>-2.0</td>\n",
       "    </tr>\n",
       "    <tr>\n",
       "      <th>T4</th>\n",
       "      <td>12.0</td>\n",
       "      <td>0.0</td>\n",
       "    </tr>\n",
       "    <tr>\n",
       "      <th>Out</th>\n",
       "      <td>3.0</td>\n",
       "      <td>0.0</td>\n",
       "    </tr>\n",
       "  </tbody>\n",
       "</table>\n",
       "</div>"
      ],
      "text/plain": [
       "<Solution 3.000 at 0x28e0087a6a0>"
      ]
     },
     "execution_count": 15,
     "metadata": {},
     "output_type": "execute_result"
    }
   ],
   "source": [
    "M.optimize()"
   ]
  },
  {
   "cell_type": "code",
   "execution_count": 16,
   "id": "49ecfb5f",
   "metadata": {},
   "outputs": [
    {
     "data": {
      "text/html": [
       "<h3>Objective</h3><p>1.0 Out = 3.0</p><h4>Uptake</h4><table border=\"1\" class=\"dataframe\">\n",
       "  <thead>\n",
       "    <tr style=\"text-align: right;\">\n",
       "      <th>Metabolite</th>\n",
       "      <th>Reaction</th>\n",
       "      <th>Flux</th>\n",
       "      <th>C-Number</th>\n",
       "      <th>C-Flux</th>\n",
       "    </tr>\n",
       "  </thead>\n",
       "  <tbody>\n",
       "    <tr>\n",
       "      <td>A</td>\n",
       "      <td>In</td>\n",
       "      <td>15</td>\n",
       "      <td>0</td>\n",
       "      <td>0.00%</td>\n",
       "    </tr>\n",
       "  </tbody>\n",
       "</table><h4>Secretion</h4><table border=\"1\" class=\"dataframe\">\n",
       "  <thead>\n",
       "    <tr style=\"text-align: right;\">\n",
       "      <th>Metabolite</th>\n",
       "      <th>Reaction</th>\n",
       "      <th>Flux</th>\n",
       "      <th>C-Number</th>\n",
       "      <th>C-Flux</th>\n",
       "    </tr>\n",
       "  </thead>\n",
       "  <tbody>\n",
       "    <tr>\n",
       "      <td>C</td>\n",
       "      <td>Out</td>\n",
       "      <td>-3</td>\n",
       "      <td>0</td>\n",
       "      <td>0.00%</td>\n",
       "    </tr>\n",
       "    <tr>\n",
       "      <td>ATP</td>\n",
       "      <td>T4</td>\n",
       "      <td>-12</td>\n",
       "      <td>0</td>\n",
       "      <td>0.00%</td>\n",
       "    </tr>\n",
       "  </tbody>\n",
       "</table>"
      ],
      "text/plain": [
       "<cobra.summary.model_summary.ModelSummary at 0x28e0087af40>"
      ]
     },
     "execution_count": 16,
     "metadata": {},
     "output_type": "execute_result"
    }
   ],
   "source": [
    "M.summary()"
   ]
  },
  {
   "cell_type": "code",
   "execution_count": null,
   "id": "3f0fb4d2",
   "metadata": {},
   "outputs": [],
   "source": []
  }
 ],
 "metadata": {
  "kernelspec": {
   "display_name": "Python 3 (ipykernel)",
   "language": "python",
   "name": "python3"
  },
  "language_info": {
   "codemirror_mode": {
    "name": "ipython",
    "version": 3
   },
   "file_extension": ".py",
   "mimetype": "text/x-python",
   "name": "python",
   "nbconvert_exporter": "python",
   "pygments_lexer": "ipython3",
   "version": "3.9.7"
  }
 },
 "nbformat": 4,
 "nbformat_minor": 5
}
