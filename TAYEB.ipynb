{
 "cells": [
  {
   "cell_type": "code",
   "execution_count": 3,
   "id": "bfe2312f",
   "metadata": {},
   "outputs": [
    {
     "name": "stdout",
     "output_type": "stream",
     "text": [
      "Requirement already satisfied: cobra in c:\\users\\tc\\anaconda3\\lib\\site-packages (0.24.0)\n",
      "Requirement already satisfied: future in c:\\users\\tc\\anaconda3\\lib\\site-packages (from cobra) (0.18.2)\n",
      "Requirement already satisfied: diskcache~=5.0 in c:\\users\\tc\\anaconda3\\lib\\site-packages (from cobra) (5.4.0)\n",
      "Requirement already satisfied: importlib-resources in c:\\users\\tc\\anaconda3\\lib\\site-packages (from cobra) (5.7.1)\n",
      "Requirement already satisfied: python-libsbml==5.19.2 in c:\\users\\tc\\anaconda3\\lib\\site-packages (from cobra) (5.19.2)\n",
      "Requirement already satisfied: depinfo~=1.7 in c:\\users\\tc\\anaconda3\\lib\\site-packages (from cobra) (1.7.0)\n",
      "Requirement already satisfied: rich>=8.0 in c:\\users\\tc\\anaconda3\\lib\\site-packages (from cobra) (12.3.0)\n",
      "Requirement already satisfied: pandas~=1.0 in c:\\users\\tc\\anaconda3\\lib\\site-packages (from cobra) (1.3.4)\n",
      "Requirement already satisfied: swiglpk in c:\\users\\tc\\anaconda3\\lib\\site-packages (from cobra) (5.0.5)\n",
      "Requirement already satisfied: optlang~=1.5 in c:\\users\\tc\\anaconda3\\lib\\site-packages (from cobra) (1.5.2)\n",
      "Requirement already satisfied: numpy~=1.13 in c:\\users\\tc\\anaconda3\\lib\\site-packages (from cobra) (1.20.3)\n",
      "Requirement already satisfied: httpx~=0.14 in c:\\users\\tc\\anaconda3\\lib\\site-packages (from cobra) (0.22.0)\n",
      "Requirement already satisfied: pydantic~=1.6 in c:\\users\\tc\\anaconda3\\lib\\site-packages (from cobra) (1.9.0)\n",
      "Requirement already satisfied: appdirs~=1.4 in c:\\users\\tc\\anaconda3\\lib\\site-packages (from cobra) (1.4.4)\n",
      "Requirement already satisfied: ruamel.yaml~=0.16 in c:\\users\\tc\\anaconda3\\lib\\site-packages (from cobra) (0.17.21)\n",
      "Requirement already satisfied: rfc3986[idna2008]<2,>=1.3 in c:\\users\\tc\\anaconda3\\lib\\site-packages (from httpx~=0.14->cobra) (1.5.0)\n",
      "Requirement already satisfied: sniffio in c:\\users\\tc\\anaconda3\\lib\\site-packages (from httpx~=0.14->cobra) (1.2.0)\n",
      "Requirement already satisfied: httpcore<0.15.0,>=0.14.5 in c:\\users\\tc\\anaconda3\\lib\\site-packages (from httpx~=0.14->cobra) (0.14.7)\n",
      "Requirement already satisfied: charset-normalizer in c:\\users\\tc\\anaconda3\\lib\\site-packages (from httpx~=0.14->cobra) (2.0.4)\n",
      "Requirement already satisfied: certifi in c:\\users\\tc\\anaconda3\\lib\\site-packages (from httpx~=0.14->cobra) (2021.10.8)\n",
      "Requirement already satisfied: h11<0.13,>=0.11 in c:\\users\\tc\\anaconda3\\lib\\site-packages (from httpcore<0.15.0,>=0.14.5->httpx~=0.14->cobra) (0.12.0)\n",
      "Requirement already satisfied: anyio==3.* in c:\\users\\tc\\anaconda3\\lib\\site-packages (from httpcore<0.15.0,>=0.14.5->httpx~=0.14->cobra) (3.5.0)\n",
      "Requirement already satisfied: idna>=2.8 in c:\\users\\tc\\anaconda3\\lib\\site-packages (from anyio==3.*->httpcore<0.15.0,>=0.14.5->httpx~=0.14->cobra) (3.2)\n",
      "Requirement already satisfied: sympy>=1.0 in c:\\users\\tc\\anaconda3\\lib\\site-packages (from optlang~=1.5->cobra) (1.9)\n",
      "Requirement already satisfied: six>=1.9 in c:\\users\\tc\\anaconda3\\lib\\site-packages (from optlang~=1.5->cobra) (1.16.0)\n",
      "Requirement already satisfied: pytz>=2017.3 in c:\\users\\tc\\anaconda3\\lib\\site-packages (from pandas~=1.0->cobra) (2021.3)\n",
      "Requirement already satisfied: python-dateutil>=2.7.3 in c:\\users\\tc\\anaconda3\\lib\\site-packages (from pandas~=1.0->cobra) (2.8.2)\n",
      "Requirement already satisfied: typing-extensions>=3.7.4.3 in c:\\users\\tc\\anaconda3\\lib\\site-packages (from pydantic~=1.6->cobra) (3.10.0.2)\n",
      "Requirement already satisfied: commonmark<0.10.0,>=0.9.0 in c:\\users\\tc\\anaconda3\\lib\\site-packages (from rich>=8.0->cobra) (0.9.1)\n",
      "Requirement already satisfied: pygments<3.0.0,>=2.6.0 in c:\\users\\tc\\anaconda3\\lib\\site-packages (from rich>=8.0->cobra) (2.10.0)\n",
      "Requirement already satisfied: ruamel.yaml.clib>=0.2.6 in c:\\users\\tc\\anaconda3\\lib\\site-packages (from ruamel.yaml~=0.16->cobra) (0.2.6)\n",
      "Requirement already satisfied: mpmath>=0.19 in c:\\users\\tc\\anaconda3\\lib\\site-packages (from sympy>=1.0->optlang~=1.5->cobra) (1.2.1)\n",
      "Requirement already satisfied: zipp>=3.1.0 in c:\\users\\tc\\anaconda3\\lib\\site-packages (from importlib-resources->cobra) (3.6.0)\n",
      "Note: you may need to restart the kernel to use updated packages.\n"
     ]
    }
   ],
   "source": [
    "pip install cobra"
   ]
  },
  {
   "cell_type": "code",
   "execution_count": 4,
   "id": "0b11c783",
   "metadata": {},
   "outputs": [],
   "source": [
    "import cobra"
   ]
  },
  {
   "cell_type": "code",
   "execution_count": 5,
   "id": "295082ea",
   "metadata": {},
   "outputs": [],
   "source": [
    "from cobra import Model,Reaction,Metabolite"
   ]
  },
  {
   "cell_type": "code",
   "execution_count": 6,
   "id": "571a3f66",
   "metadata": {},
   "outputs": [],
   "source": [
    "# define the model\n",
    "\n",
    "model = Model('Model')"
   ]
  },
  {
   "cell_type": "code",
   "execution_count": 7,
   "id": "49062c2f",
   "metadata": {},
   "outputs": [],
   "source": [
    "# define the reactions \n",
    "\n",
    "reaction0=Reaction('reaction0')\n",
    "reaction0.name='reaction0'\n",
    "reaction0.lower_bound=1\n",
    "reaction0.upper_bound=1\n",
    "\n",
    "reaction1=Reaction('reaction1')\n",
    "reaction1.name='reaction1'\n",
    "reaction1.lower_bound=0\n",
    "reaction1.upper_bound=1000\n",
    "\n",
    "reaction2=Reaction('reaction2')\n",
    "reaction2.name='reaction2'\n",
    "reaction2.lower_bound=0\n",
    "reaction2.upper_bound=1000\n",
    "\n",
    "reaction3=Reaction('reaction3')\n",
    "reaction3.name='reaction3'\n",
    "reaction3.lower_bound=.9\n",
    "reaction3.upper_bound=.9\n",
    "\n",
    "reaction4=Reaction('reaction4')\n",
    "reaction4.name='reaction4'\n",
    "reaction4.lower_bound=0\n",
    "reaction4.upper_bound=1000\n",
    "\n",
    "M=Reaction('M')\n",
    "M.name='M'\n",
    "M.lower_bound=0\n",
    "M.upper_bound=1000"
   ]
  },
  {
   "cell_type": "code",
   "execution_count": 8,
   "id": "7627a257",
   "metadata": {},
   "outputs": [],
   "source": [
    "# define the metabolites\n",
    "\n",
    "A=Metabolite('A',compartment='c')\n",
    "B=Metabolite('B',compartment='c')\n",
    "C=Metabolite('C',compartment='c')\n",
    "ATP=Metabolite('ATP',compartment='c')"
   ]
  },
  {
   "cell_type": "code",
   "execution_count": 9,
   "id": "5b0905f3",
   "metadata": {},
   "outputs": [],
   "source": [
    "reaction0.add_metabolites({A:1}) # the metabolite A: in\n",
    "reaction1.add_metabolites({A:-1,B:1}) # metabolite A: out, metabolite B:in\n",
    "reaction2.add_metabolites({B:-1,C:1}) # metabolite B: out, metabolite C:in\n",
    "M.add_metabolites({C:-1}) # metabolite C:out\n",
    "reaction3.add_metabolites({A:-1,ATP:1}) # metabolite A turned to ATP means energy generation\n",
    "reaction4.add_metabolites({ATP:-1}) # ATP released means energy consuming"
   ]
  },
  {
   "cell_type": "code",
   "execution_count": 10,
   "id": "2fa7d59b",
   "metadata": {},
   "outputs": [],
   "source": [
    "# add reactions to the model\n",
    "\n",
    "model.add_reactions([reaction0,reaction1,reaction2,reaction3,reaction4,M])"
   ]
  },
  {
   "cell_type": "code",
   "execution_count": 11,
   "id": "77bf3f2d",
   "metadata": {},
   "outputs": [],
   "source": [
    "model.objective='M'"
   ]
  },
  {
   "cell_type": "code",
   "execution_count": 12,
   "id": "c5556ead",
   "metadata": {},
   "outputs": [
    {
     "data": {
      "text/html": [
       "<strong><em>Optimal</em> solution with objective value 0.100</strong><br><div>\n",
       "<style scoped>\n",
       "    .dataframe tbody tr th:only-of-type {\n",
       "        vertical-align: middle;\n",
       "    }\n",
       "\n",
       "    .dataframe tbody tr th {\n",
       "        vertical-align: top;\n",
       "    }\n",
       "\n",
       "    .dataframe thead th {\n",
       "        text-align: right;\n",
       "    }\n",
       "</style>\n",
       "<table border=\"1\" class=\"dataframe\">\n",
       "  <thead>\n",
       "    <tr style=\"text-align: right;\">\n",
       "      <th></th>\n",
       "      <th>fluxes</th>\n",
       "      <th>reduced_costs</th>\n",
       "    </tr>\n",
       "  </thead>\n",
       "  <tbody>\n",
       "    <tr>\n",
       "      <th>reaction0</th>\n",
       "      <td>1.0</td>\n",
       "      <td>2.0</td>\n",
       "    </tr>\n",
       "    <tr>\n",
       "      <th>reaction1</th>\n",
       "      <td>0.1</td>\n",
       "      <td>0.0</td>\n",
       "    </tr>\n",
       "    <tr>\n",
       "      <th>reaction2</th>\n",
       "      <td>0.1</td>\n",
       "      <td>0.0</td>\n",
       "    </tr>\n",
       "    <tr>\n",
       "      <th>reaction3</th>\n",
       "      <td>0.9</td>\n",
       "      <td>-2.0</td>\n",
       "    </tr>\n",
       "    <tr>\n",
       "      <th>reaction4</th>\n",
       "      <td>0.9</td>\n",
       "      <td>0.0</td>\n",
       "    </tr>\n",
       "    <tr>\n",
       "      <th>M</th>\n",
       "      <td>0.1</td>\n",
       "      <td>0.0</td>\n",
       "    </tr>\n",
       "  </tbody>\n",
       "</table>\n",
       "</div>"
      ],
      "text/plain": [
       "<Solution 0.100 at 0x2ba3c2ca160>"
      ]
     },
     "execution_count": 12,
     "metadata": {},
     "output_type": "execute_result"
    }
   ],
   "source": [
    "# make the model optimal depending on the objective value\n",
    "\n",
    "model.optimize()"
   ]
  },
  {
   "cell_type": "code",
   "execution_count": 14,
   "id": "77f8c228",
   "metadata": {
    "scrolled": true
   },
   "outputs": [
    {
     "data": {
      "text/html": [
       "<h3>Objective</h3><p>1.0 M = 0.09999999999999998</p><h4>Uptake</h4><table border=\"1\" class=\"dataframe\">\n",
       "  <thead>\n",
       "    <tr style=\"text-align: right;\">\n",
       "      <th>Metabolite</th>\n",
       "      <th>Reaction</th>\n",
       "      <th>Flux</th>\n",
       "      <th>C-Number</th>\n",
       "      <th>C-Flux</th>\n",
       "    </tr>\n",
       "  </thead>\n",
       "  <tbody>\n",
       "    <tr>\n",
       "      <td>A</td>\n",
       "      <td>reaction0</td>\n",
       "      <td>1</td>\n",
       "      <td>0</td>\n",
       "      <td>0.00%</td>\n",
       "    </tr>\n",
       "  </tbody>\n",
       "</table><h4>Secretion</h4><table border=\"1\" class=\"dataframe\">\n",
       "  <thead>\n",
       "    <tr style=\"text-align: right;\">\n",
       "      <th>Metabolite</th>\n",
       "      <th>Reaction</th>\n",
       "      <th>Flux</th>\n",
       "      <th>C-Number</th>\n",
       "      <th>C-Flux</th>\n",
       "    </tr>\n",
       "  </thead>\n",
       "  <tbody>\n",
       "    <tr>\n",
       "      <td>C</td>\n",
       "      <td>M</td>\n",
       "      <td>-0.1</td>\n",
       "      <td>0</td>\n",
       "      <td>0.00%</td>\n",
       "    </tr>\n",
       "    <tr>\n",
       "      <td>ATP</td>\n",
       "      <td>reaction4</td>\n",
       "      <td>-0.9</td>\n",
       "      <td>0</td>\n",
       "      <td>0.00%</td>\n",
       "    </tr>\n",
       "  </tbody>\n",
       "</table>"
      ],
      "text/plain": [
       "<cobra.summary.model_summary.ModelSummary at 0x2ba3c455490>"
      ]
     },
     "execution_count": 14,
     "metadata": {},
     "output_type": "execute_result"
    }
   ],
   "source": [
    "# summarize the model\n",
    "\n",
    "model.summary()"
   ]
  },
  {
   "cell_type": "code",
   "execution_count": 15,
   "id": "45c99622",
   "metadata": {},
   "outputs": [],
   "source": [
    "cobra.io.save_json_model(model,\"test2.json\")"
   ]
  },
  {
   "cell_type": "code",
   "execution_count": 13,
   "id": "815ecbab",
   "metadata": {},
   "outputs": [
    {
     "name": "stdout",
     "output_type": "stream",
     "text": [
      "Collecting escherNote: you may need to restart the kernel to use updated packages.\n",
      "  Using cached Escher-1.7.3-py3-none-any.whl (1.2 MB)\n",
      "Requirement already satisfied: Jinja2<3,>=2.7.3 in c:\\users\\tc\\anaconda3\\lib\\site-packages (from escher) (2.11.3)\n",
      "Requirement already satisfied: cobra>=0.5.0 in c:\\users\\tc\\anaconda3\\lib\\site-packages (from escher) (0.24.0)\n",
      "Collecting pytest<5,>=4.0.1\n",
      "  Using cached pytest-4.6.11-py2.py3-none-any.whl (231 kB)\n",
      "Requirement already satisfied: pandas>=0.18 in c:\\users\\tc\\anaconda3\\lib\\site-packages (from escher) (1.3.4)\n",
      "Requirement already satisfied: jsonschema<4,>=3.0.1 in c:\\users\\tc\\anaconda3\\lib\\site-packages (from escher) (3.2.0)\n",
      "Requirement already satisfied: ipywidgets<8,>=7.4.0 in c:\\users\\tc\\anaconda3\\lib\\site-packages (from escher) (7.6.5)\n",
      "Requirement already satisfied: ruamel.yaml~=0.16 in c:\\users\\tc\\anaconda3\\lib\\site-packages (from cobra>=0.5.0->escher) (0.17.21)\n",
      "Requirement already satisfied: depinfo~=1.7 in c:\\users\\tc\\anaconda3\\lib\\site-packages (from cobra>=0.5.0->escher) (1.7.0)\n",
      "Requirement already satisfied: httpx~=0.14 in c:\\users\\tc\\anaconda3\\lib\\site-packages (from cobra>=0.5.0->escher) (0.22.0)\n",
      "Requirement already satisfied: diskcache~=5.0 in c:\\users\\tc\\anaconda3\\lib\\site-packages (from cobra>=0.5.0->escher) (5.4.0)\n",
      "Requirement already satisfied: importlib-resources in c:\\users\\tc\\anaconda3\\lib\\site-packages (from cobra>=0.5.0->escher) (5.7.1)\n",
      "Requirement already satisfied: optlang~=1.5 in c:\\users\\tc\\anaconda3\\lib\\site-packages (from cobra>=0.5.0->escher) (1.5.2)\n",
      "Requirement already satisfied: pydantic~=1.6 in c:\\users\\tc\\anaconda3\\lib\\site-packages (from cobra>=0.5.0->escher) (1.9.0)\n",
      "Requirement already satisfied: python-libsbml==5.19.2 in c:\\users\\tc\\anaconda3\\lib\\site-packages (from cobra>=0.5.0->escher) (5.19.2)\n",
      "Requirement already satisfied: swiglpk in c:\\users\\tc\\anaconda3\\lib\\site-packages (from cobra>=0.5.0->escher) (5.0.5)\n",
      "Requirement already satisfied: appdirs~=1.4 in c:\\users\\tc\\anaconda3\\lib\\site-packages (from cobra>=0.5.0->escher) (1.4.4)\n",
      "Requirement already satisfied: rich>=8.0 in c:\\users\\tc\\anaconda3\\lib\\site-packages (from cobra>=0.5.0->escher) (12.3.0)\n",
      "Requirement already satisfied: numpy~=1.13 in c:\\users\\tc\\anaconda3\\lib\\site-packages (from cobra>=0.5.0->escher) (1.20.3)\n",
      "Requirement already satisfied: future in c:\\users\\tc\\anaconda3\\lib\\site-packages (from cobra>=0.5.0->escher) (0.18.2)\n",
      "Requirement already satisfied: httpcore<0.15.0,>=0.14.5 in c:\\users\\tc\\anaconda3\\lib\\site-packages (from httpx~=0.14->cobra>=0.5.0->escher) (0.14.7)\n",
      "Requirement already satisfied: sniffio in c:\\users\\tc\\anaconda3\\lib\\site-packages (from httpx~=0.14->cobra>=0.5.0->escher) (1.2.0)\n",
      "Requirement already satisfied: rfc3986[idna2008]<2,>=1.3 in c:\\users\\tc\\anaconda3\\lib\\site-packages (from httpx~=0.14->cobra>=0.5.0->escher) (1.5.0)\n",
      "\n",
      "Requirement already satisfied: charset-normalizer in c:\\users\\tc\\anaconda3\\lib\\site-packages (from httpx~=0.14->cobra>=0.5.0->escher) (2.0.4)\n",
      "Requirement already satisfied: certifi in c:\\users\\tc\\anaconda3\\lib\\site-packages (from httpx~=0.14->cobra>=0.5.0->escher) (2021.10.8)\n",
      "Requirement already satisfied: h11<0.13,>=0.11 in c:\\users\\tc\\anaconda3\\lib\\site-packages (from httpcore<0.15.0,>=0.14.5->httpx~=0.14->cobra>=0.5.0->escher) (0.12.0)\n",
      "Requirement already satisfied: anyio==3.* in c:\\users\\tc\\anaconda3\\lib\\site-packages (from httpcore<0.15.0,>=0.14.5->httpx~=0.14->cobra>=0.5.0->escher) (3.5.0)\n",
      "Requirement already satisfied: idna>=2.8 in c:\\users\\tc\\anaconda3\\lib\\site-packages (from anyio==3.*->httpcore<0.15.0,>=0.14.5->httpx~=0.14->cobra>=0.5.0->escher) (3.2)\n",
      "Requirement already satisfied: nbformat>=4.2.0 in c:\\users\\tc\\anaconda3\\lib\\site-packages (from ipywidgets<8,>=7.4.0->escher) (5.1.3)\n",
      "Requirement already satisfied: ipython-genutils~=0.2.0 in c:\\users\\tc\\anaconda3\\lib\\site-packages (from ipywidgets<8,>=7.4.0->escher) (0.2.0)\n",
      "Requirement already satisfied: widgetsnbextension~=3.5.0 in c:\\users\\tc\\anaconda3\\lib\\site-packages (from ipywidgets<8,>=7.4.0->escher) (3.5.1)\n",
      "Requirement already satisfied: jupyterlab-widgets>=1.0.0 in c:\\users\\tc\\anaconda3\\lib\\site-packages (from ipywidgets<8,>=7.4.0->escher) (1.0.0)\n",
      "Requirement already satisfied: traitlets>=4.3.1 in c:\\users\\tc\\anaconda3\\lib\\site-packages (from ipywidgets<8,>=7.4.0->escher) (5.1.0)\n",
      "Requirement already satisfied: ipython>=4.0.0 in c:\\users\\tc\\anaconda3\\lib\\site-packages (from ipywidgets<8,>=7.4.0->escher) (7.29.0)\n",
      "Requirement already satisfied: ipykernel>=4.5.1 in c:\\users\\tc\\anaconda3\\lib\\site-packages (from ipywidgets<8,>=7.4.0->escher) (6.4.1)\n",
      "Requirement already satisfied: matplotlib-inline<0.2.0,>=0.1.0 in c:\\users\\tc\\anaconda3\\lib\\site-packages (from ipykernel>=4.5.1->ipywidgets<8,>=7.4.0->escher) (0.1.2)\n",
      "Requirement already satisfied: debugpy<2.0,>=1.0.0 in c:\\users\\tc\\anaconda3\\lib\\site-packages (from ipykernel>=4.5.1->ipywidgets<8,>=7.4.0->escher) (1.4.1)\n",
      "Requirement already satisfied: jupyter-client<8.0 in c:\\users\\tc\\anaconda3\\lib\\site-packages (from ipykernel>=4.5.1->ipywidgets<8,>=7.4.0->escher) (6.1.12)\n",
      "Requirement already satisfied: tornado<7.0,>=4.2 in c:\\users\\tc\\anaconda3\\lib\\site-packages (from ipykernel>=4.5.1->ipywidgets<8,>=7.4.0->escher) (6.1)\n",
      "Requirement already satisfied: pickleshare in c:\\users\\tc\\anaconda3\\lib\\site-packages (from ipython>=4.0.0->ipywidgets<8,>=7.4.0->escher) (0.7.5)\n",
      "Requirement already satisfied: prompt-toolkit!=3.0.0,!=3.0.1,<3.1.0,>=2.0.0 in c:\\users\\tc\\anaconda3\\lib\\site-packages (from ipython>=4.0.0->ipywidgets<8,>=7.4.0->escher) (3.0.20)\n",
      "Requirement already satisfied: decorator in c:\\users\\tc\\anaconda3\\lib\\site-packages (from ipython>=4.0.0->ipywidgets<8,>=7.4.0->escher) (5.1.0)\n",
      "Requirement already satisfied: pygments in c:\\users\\tc\\anaconda3\\lib\\site-packages (from ipython>=4.0.0->ipywidgets<8,>=7.4.0->escher) (2.10.0)\n",
      "Requirement already satisfied: backcall in c:\\users\\tc\\anaconda3\\lib\\site-packages (from ipython>=4.0.0->ipywidgets<8,>=7.4.0->escher) (0.2.0)\n",
      "Requirement already satisfied: jedi>=0.16 in c:\\users\\tc\\anaconda3\\lib\\site-packages (from ipython>=4.0.0->ipywidgets<8,>=7.4.0->escher) (0.18.0)\n",
      "Requirement already satisfied: colorama in c:\\users\\tc\\anaconda3\\lib\\site-packages (from ipython>=4.0.0->ipywidgets<8,>=7.4.0->escher) (0.4.4)\n",
      "Requirement already satisfied: setuptools>=18.5 in c:\\users\\tc\\anaconda3\\lib\\site-packages (from ipython>=4.0.0->ipywidgets<8,>=7.4.0->escher) (58.0.4)\n",
      "Requirement already satisfied: parso<0.9.0,>=0.8.0 in c:\\users\\tc\\anaconda3\\lib\\site-packages (from jedi>=0.16->ipython>=4.0.0->ipywidgets<8,>=7.4.0->escher) (0.8.2)\n",
      "Requirement already satisfied: MarkupSafe>=0.23 in c:\\users\\tc\\anaconda3\\lib\\site-packages (from Jinja2<3,>=2.7.3->escher) (1.1.1)\n",
      "Requirement already satisfied: pyrsistent>=0.14.0 in c:\\users\\tc\\anaconda3\\lib\\site-packages (from jsonschema<4,>=3.0.1->escher) (0.18.0)\n",
      "Requirement already satisfied: attrs>=17.4.0 in c:\\users\\tc\\anaconda3\\lib\\site-packages (from jsonschema<4,>=3.0.1->escher) (21.2.0)\n",
      "Requirement already satisfied: six>=1.11.0 in c:\\users\\tc\\anaconda3\\lib\\site-packages (from jsonschema<4,>=3.0.1->escher) (1.16.0)\n",
      "Requirement already satisfied: jupyter-core>=4.6.0 in c:\\users\\tc\\anaconda3\\lib\\site-packages (from jupyter-client<8.0->ipykernel>=4.5.1->ipywidgets<8,>=7.4.0->escher) (4.8.1)\n",
      "Requirement already satisfied: python-dateutil>=2.1 in c:\\users\\tc\\anaconda3\\lib\\site-packages (from jupyter-client<8.0->ipykernel>=4.5.1->ipywidgets<8,>=7.4.0->escher) (2.8.2)\n",
      "Requirement already satisfied: pyzmq>=13 in c:\\users\\tc\\anaconda3\\lib\\site-packages (from jupyter-client<8.0->ipykernel>=4.5.1->ipywidgets<8,>=7.4.0->escher) (22.2.1)\n",
      "Requirement already satisfied: pywin32>=1.0 in c:\\users\\tc\\anaconda3\\lib\\site-packages (from jupyter-core>=4.6.0->jupyter-client<8.0->ipykernel>=4.5.1->ipywidgets<8,>=7.4.0->escher) (228)\n",
      "Requirement already satisfied: sympy>=1.0 in c:\\users\\tc\\anaconda3\\lib\\site-packages (from optlang~=1.5->cobra>=0.5.0->escher) (1.9)\n",
      "Requirement already satisfied: pytz>=2017.3 in c:\\users\\tc\\anaconda3\\lib\\site-packages (from pandas>=0.18->escher) (2021.3)\n",
      "Requirement already satisfied: wcwidth in c:\\users\\tc\\anaconda3\\lib\\site-packages (from prompt-toolkit!=3.0.0,!=3.0.1,<3.1.0,>=2.0.0->ipython>=4.0.0->ipywidgets<8,>=7.4.0->escher) (0.2.5)\n",
      "Requirement already satisfied: typing-extensions>=3.7.4.3 in c:\\users\\tc\\anaconda3\\lib\\site-packages (from pydantic~=1.6->cobra>=0.5.0->escher) (3.10.0.2)\n",
      "Requirement already satisfied: packaging in c:\\users\\tc\\anaconda3\\lib\\site-packages (from pytest<5,>=4.0.1->escher) (21.0)\n",
      "Requirement already satisfied: atomicwrites>=1.0 in c:\\users\\tc\\anaconda3\\lib\\site-packages (from pytest<5,>=4.0.1->escher) (1.4.0)\n",
      "Requirement already satisfied: py>=1.5.0 in c:\\users\\tc\\anaconda3\\lib\\site-packages (from pytest<5,>=4.0.1->escher) (1.10.0)\n",
      "Requirement already satisfied: pluggy<1.0,>=0.12 in c:\\users\\tc\\anaconda3\\lib\\site-packages (from pytest<5,>=4.0.1->escher) (0.13.1)\n",
      "Requirement already satisfied: more-itertools>=4.0.0 in c:\\users\\tc\\anaconda3\\lib\\site-packages (from pytest<5,>=4.0.1->escher) (8.10.0)\n",
      "Requirement already satisfied: commonmark<0.10.0,>=0.9.0 in c:\\users\\tc\\anaconda3\\lib\\site-packages (from rich>=8.0->cobra>=0.5.0->escher) (0.9.1)\n",
      "Requirement already satisfied: ruamel.yaml.clib>=0.2.6 in c:\\users\\tc\\anaconda3\\lib\\site-packages (from ruamel.yaml~=0.16->cobra>=0.5.0->escher) (0.2.6)\n",
      "Requirement already satisfied: mpmath>=0.19 in c:\\users\\tc\\anaconda3\\lib\\site-packages (from sympy>=1.0->optlang~=1.5->cobra>=0.5.0->escher) (1.2.1)\n",
      "Requirement already satisfied: notebook>=4.4.1 in c:\\users\\tc\\anaconda3\\lib\\site-packages (from widgetsnbextension~=3.5.0->ipywidgets<8,>=7.4.0->escher) (6.4.5)\n",
      "Requirement already satisfied: prometheus-client in c:\\users\\tc\\anaconda3\\lib\\site-packages (from notebook>=4.4.1->widgetsnbextension~=3.5.0->ipywidgets<8,>=7.4.0->escher) (0.11.0)\n",
      "Requirement already satisfied: Send2Trash>=1.5.0 in c:\\users\\tc\\anaconda3\\lib\\site-packages (from notebook>=4.4.1->widgetsnbextension~=3.5.0->ipywidgets<8,>=7.4.0->escher) (1.8.0)\n",
      "Requirement already satisfied: terminado>=0.8.3 in c:\\users\\tc\\anaconda3\\lib\\site-packages (from notebook>=4.4.1->widgetsnbextension~=3.5.0->ipywidgets<8,>=7.4.0->escher) (0.9.4)\n",
      "Requirement already satisfied: argon2-cffi in c:\\users\\tc\\anaconda3\\lib\\site-packages (from notebook>=4.4.1->widgetsnbextension~=3.5.0->ipywidgets<8,>=7.4.0->escher) (20.1.0)\n",
      "Requirement already satisfied: nbconvert in c:\\users\\tc\\anaconda3\\lib\\site-packages (from notebook>=4.4.1->widgetsnbextension~=3.5.0->ipywidgets<8,>=7.4.0->escher) (6.1.0)\n",
      "Requirement already satisfied: pywinpty>=0.5 in c:\\users\\tc\\anaconda3\\lib\\site-packages (from terminado>=0.8.3->notebook>=4.4.1->widgetsnbextension~=3.5.0->ipywidgets<8,>=7.4.0->escher) (0.5.7)\n",
      "Requirement already satisfied: cffi>=1.0.0 in c:\\users\\tc\\anaconda3\\lib\\site-packages (from argon2-cffi->notebook>=4.4.1->widgetsnbextension~=3.5.0->ipywidgets<8,>=7.4.0->escher) (1.14.6)\n",
      "Requirement already satisfied: pycparser in c:\\users\\tc\\anaconda3\\lib\\site-packages (from cffi>=1.0.0->argon2-cffi->notebook>=4.4.1->widgetsnbextension~=3.5.0->ipywidgets<8,>=7.4.0->escher) (2.20)\n",
      "Requirement already satisfied: zipp>=3.1.0 in c:\\users\\tc\\anaconda3\\lib\\site-packages (from importlib-resources->cobra>=0.5.0->escher) (3.6.0)\n",
      "Requirement already satisfied: mistune<2,>=0.8.1 in c:\\users\\tc\\anaconda3\\lib\\site-packages (from nbconvert->notebook>=4.4.1->widgetsnbextension~=3.5.0->ipywidgets<8,>=7.4.0->escher) (0.8.4)\n",
      "Requirement already satisfied: nbclient<0.6.0,>=0.5.0 in c:\\users\\tc\\anaconda3\\lib\\site-packages (from nbconvert->notebook>=4.4.1->widgetsnbextension~=3.5.0->ipywidgets<8,>=7.4.0->escher) (0.5.3)\n",
      "Requirement already satisfied: entrypoints>=0.2.2 in c:\\users\\tc\\anaconda3\\lib\\site-packages (from nbconvert->notebook>=4.4.1->widgetsnbextension~=3.5.0->ipywidgets<8,>=7.4.0->escher) (0.3)\n",
      "Requirement already satisfied: pandocfilters>=1.4.1 in c:\\users\\tc\\anaconda3\\lib\\site-packages (from nbconvert->notebook>=4.4.1->widgetsnbextension~=3.5.0->ipywidgets<8,>=7.4.0->escher) (1.4.3)\n",
      "Requirement already satisfied: jupyterlab-pygments in c:\\users\\tc\\anaconda3\\lib\\site-packages (from nbconvert->notebook>=4.4.1->widgetsnbextension~=3.5.0->ipywidgets<8,>=7.4.0->escher) (0.1.2)\n",
      "Requirement already satisfied: testpath in c:\\users\\tc\\anaconda3\\lib\\site-packages (from nbconvert->notebook>=4.4.1->widgetsnbextension~=3.5.0->ipywidgets<8,>=7.4.0->escher) (0.5.0)\n",
      "Requirement already satisfied: defusedxml in c:\\users\\tc\\anaconda3\\lib\\site-packages (from nbconvert->notebook>=4.4.1->widgetsnbextension~=3.5.0->ipywidgets<8,>=7.4.0->escher) (0.7.1)\n",
      "Requirement already satisfied: bleach in c:\\users\\tc\\anaconda3\\lib\\site-packages (from nbconvert->notebook>=4.4.1->widgetsnbextension~=3.5.0->ipywidgets<8,>=7.4.0->escher) (4.0.0)\n",
      "Requirement already satisfied: async-generator in c:\\users\\tc\\anaconda3\\lib\\site-packages (from nbclient<0.6.0,>=0.5.0->nbconvert->notebook>=4.4.1->widgetsnbextension~=3.5.0->ipywidgets<8,>=7.4.0->escher) (1.10)\n",
      "Requirement already satisfied: nest-asyncio in c:\\users\\tc\\anaconda3\\lib\\site-packages (from nbclient<0.6.0,>=0.5.0->nbconvert->notebook>=4.4.1->widgetsnbextension~=3.5.0->ipywidgets<8,>=7.4.0->escher) (1.5.1)\n",
      "Requirement already satisfied: webencodings in c:\\users\\tc\\anaconda3\\lib\\site-packages (from bleach->nbconvert->notebook>=4.4.1->widgetsnbextension~=3.5.0->ipywidgets<8,>=7.4.0->escher) (0.5.1)\n",
      "Requirement already satisfied: pyparsing>=2.0.2 in c:\\users\\tc\\anaconda3\\lib\\site-packages (from packaging->pytest<5,>=4.0.1->escher) (3.0.4)\n",
      "Installing collected packages: pytest, escher\n",
      "  Attempting uninstall: pytest\n",
      "    Found existing installation: pytest 6.2.4\n",
      "    Uninstalling pytest-6.2.4:\n",
      "      Successfully uninstalled pytest-6.2.4\n",
      "Successfully installed escher-1.7.3 pytest-4.6.11\n"
     ]
    }
   ],
   "source": [
    "pip install escher"
   ]
  },
  {
   "cell_type": "code",
   "execution_count": 16,
   "id": "6217b03a",
   "metadata": {},
   "outputs": [],
   "source": [
    "import escher"
   ]
  },
  {
   "cell_type": "code",
   "execution_count": 17,
   "id": "616c4677",
   "metadata": {},
   "outputs": [],
   "source": [
    "from escher import Builder"
   ]
  },
  {
   "cell_type": "code",
   "execution_count": 18,
   "id": "4a469c09",
   "metadata": {},
   "outputs": [
    {
     "data": {
      "text/html": [
       "\n",
       "        <table>\n",
       "            <tr>\n",
       "                <td><strong>Name</strong></td>\n",
       "                <td>Model</td>\n",
       "            </tr><tr>\n",
       "                <td><strong>Memory address</strong></td>\n",
       "                <td>0x02ba3c495d90</td>\n",
       "            </tr><tr>\n",
       "                <td><strong>Number of metabolites</strong></td>\n",
       "                <td>4</td>\n",
       "            </tr><tr>\n",
       "                <td><strong>Number of reactions</strong></td>\n",
       "                <td>6</td>\n",
       "            </tr><tr>\n",
       "                <td><strong>Number of groups</strong></td>\n",
       "                <td>0</td>\n",
       "            </tr><tr>\n",
       "                <td><strong>Objective expression</strong></td>\n",
       "                <td>1.0*M - 1.0*M_reverse_69691</td>\n",
       "            </tr><tr>\n",
       "                <td><strong>Compartments</strong></td>\n",
       "                <td>c</td>\n",
       "            </tr>\n",
       "          </table>"
      ],
      "text/plain": [
       "<Model Model at 0x2ba3c495d90>"
      ]
     },
     "execution_count": 18,
     "metadata": {},
     "output_type": "execute_result"
    }
   ],
   "source": [
    "cobra.io.load_json_model(\"test2.json\")"
   ]
  },
  {
   "cell_type": "code",
   "execution_count": 19,
   "id": "b8f6e81a",
   "metadata": {},
   "outputs": [],
   "source": [
    "build=Builder(model_json=\"test2.json\")"
   ]
  },
  {
   "cell_type": "code",
   "execution_count": 20,
   "id": "b0ee7ba3",
   "metadata": {},
   "outputs": [
    {
     "data": {
      "application/vnd.jupyter.widget-view+json": {
       "model_id": "8fcacaa5f2dd4e5cb4565131b4105444",
       "version_major": 2,
       "version_minor": 0
      },
      "text/plain": [
       "Builder()"
      ]
     },
     "metadata": {},
     "output_type": "display_data"
    }
   ],
   "source": [
    "build"
   ]
  },
  {
   "cell_type": "code",
   "execution_count": null,
   "id": "e0e1e86f",
   "metadata": {},
   "outputs": [],
   "source": []
  }
 ],
 "metadata": {
  "kernelspec": {
   "display_name": "Python 3 (ipykernel)",
   "language": "python",
   "name": "python3"
  },
  "language_info": {
   "codemirror_mode": {
    "name": "ipython",
    "version": 3
   },
   "file_extension": ".py",
   "mimetype": "text/x-python",
   "name": "python",
   "nbconvert_exporter": "python",
   "pygments_lexer": "ipython3",
   "version": "3.9.7"
  }
 },
 "nbformat": 4,
 "nbformat_minor": 5
}
